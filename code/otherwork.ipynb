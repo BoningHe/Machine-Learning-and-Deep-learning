{
 "cells": [
  {
   "cell_type": "code",
   "execution_count": 1,
   "metadata": {
    "collapsed": true
   },
   "outputs": [],
   "source": [
    "import pandas as pd\n",
    "import idx2numpy\n",
    "import numpy as np\n",
    "from sklearn.ensemble import RandomForestClassifier\n",
    "from sklearn.neighbors import KNeighborsClassifier\n",
    "from sklearn.model_selection import cross_val_score\n",
    "from sklearn.tree import DecisionTreeClassifier\n",
    "from sklearn.model_selection import train_test_split\n",
    "from sklearn.metrics import classification_report\n",
    "import matplotlib.pyplot as plt\n",
    "from sklearn.metrics import confusion_matrix\n",
    "import seaborn as sns\n",
    "import pickle\n",
    "sns.set_style(\"whitegrid\")"
   ]
  },
  {
   "cell_type": "code",
   "execution_count": 6,
   "metadata": {
    "collapsed": true
   },
   "outputs": [],
   "source": [
    "def read_data(path):\n",
    "   #  read data from path\n",
    "   file_data = path+'input/train-images-idx3-ubyte'\n",
    "   arr_data = idx2numpy.convert_from_file(file_data)\n",
    "   arr_data = arr_data.reshape(60000,28*28)\n",
    "   file_label = path+'input/train-labels-idx1-ubyte'\n",
    "   arr_label = idx2numpy.convert_from_file(file_label)\n",
    "   file_test = path + 'input/t10k-images-idx3-ubyte'\n",
    "   test_data = idx2numpy.convert_from_file(file_test)\n",
    "   test_data = test_data.reshape(10000, 28 * 28)\n",
    "   test_lab = path + 'input/t10k-labels-idx1-ubyte'\n",
    "   test_label = idx2numpy.convert_from_file(test_lab)\n",
    "   return arr_data,arr_label,test_data,test_label\n",
    "\n",
    "def split_data(arr_data,arr_label):\n",
    "    # split data into training set and test set\n",
    "    X_train, X_test, y_train, y_test = train_test_split(arr_data, arr_label, test_size=0.1, random_state=42)\n",
    "    return X_train, X_test, y_train, y_test\n",
    "\n",
    "def model_cross_validation(arr_data, arr_label,model):\n",
    "    # complete cross validation on training set\n",
    "    result = cross_val_score(model, arr_data, arr_label, cv=10)\n",
    "    print(result)\n",
    "    plt.plot(range(len(result)), result)\n",
    "    plt.ylabel('accuracy')\n",
    "    plt.xlabel('result_number')\n",
    "    plt.title('Cross Validation Test Result')\n",
    "    plt.show()\n",
    "    print(np.mean(result))\n",
    "    return result\n",
    "\n",
    "def model_test(arr_data, arr_label,test_data,test_label,model,filename):\n",
    "    # test model on test set\n",
    "    model.fit(arr_data, arr_label)\n",
    "    pickle.dump(model, open(filename, 'wb'))\n",
    "    classname = ['T-shirt/top', 'Trouser', 'Pullover', 'Dress', 'Coat',\n",
    "                 'Sandal', 'Shirt', 'Sneaker', 'Bag', 'Ankle boot']\n",
    "    prediction = model.predict(test_data)\n",
    "    con_array = confusion_matrix(test_label, prediction, labels=range(10))\n",
    "    con_array = con_array / con_array.sum(axis=1)\n",
    "    df_cm = pd.DataFrame(con_array, range(10), range(10))\n",
    "    sns.set(font_scale=1.4)\n",
    "    sns.heatmap(df_cm, annot=True, annot_kws={\"size\": 16})\n",
    "    df_classification = classification_report(test_label, prediction, target_names=classname)\n",
    "    print(df_classification)\n",
    "    return model\n",
    "\n",
    "def random_forest_tune_depth(arr_data,arr_label,param_range):\n",
    "    # tune hyperparameter depth in the random forest algorithm\n",
    "    X_train, X_test, y_train, y_test = split_data(arr_data,arr_label)\n",
    "    score_li = []\n",
    "    for dep in param_range:\n",
    "        print(dep)\n",
    "        randomforest = RandomForestClassifier(n_estimators=50, max_depth=dep, random_state=0)\n",
    "        randomforest.fit(X_train, y_train)\n",
    "        ran_score = randomforest.score(X_test, y_test)\n",
    "        score_li.append(ran_score)\n",
    "    print(score_li)\n",
    "    plt.plot(param_range, score_li)\n",
    "    plt.ylabel('accuracy')\n",
    "    plt.xlabel('max_depth')\n",
    "    plt.show()\n",
    "    return score_li\n",
    "\n",
    "def random_forest_tune_estimators(arr_data,arr_label,param_range):\n",
    "    # tune hyperparameter estimators in the random forest algorithm\n",
    "    X_train, X_test, y_train, y_test = split_data(arr_data,arr_label)\n",
    "    score_li = []\n",
    "    for dep in param_range:\n",
    "        print(dep)\n",
    "        randomforest = RandomForestClassifier(n_estimators=dep, max_depth=30, random_state=0)\n",
    "        randomforest.fit(X_train, y_train)\n",
    "        ran_score = randomforest.score(X_test, y_test)\n",
    "        score_li.append(ran_score)\n",
    "    print(score_li)\n",
    "    plt.plot(param_range, score_li)\n",
    "    plt.ylabel('accuracy')\n",
    "    plt.xlabel('n_estimators')\n",
    "    plt.show()\n",
    "    return score_li\n",
    "\n",
    "def decision_tree_tune_depth(arr_data,arr_label,param_range):\n",
    "    # tune hyperparameter depth in the decision tree algorithm\n",
    "    X_train, X_test, y_train, y_test = split_data(arr_data,arr_label)\n",
    "    score_li = []\n",
    "    for dep in param_range:\n",
    "        print(dep)\n",
    "        clf = DecisionTreeClassifier(max_depth=dep, random_state=0)\n",
    "        clf.fit(X_train, y_train)\n",
    "        ran_score = clf.score(X_test, y_test)\n",
    "        score_li.append(ran_score)\n",
    "    print(score_li)\n",
    "    plt.plot(param_range, score_li)\n",
    "    plt.ylabel('accuracy')\n",
    "    plt.xlabel('max_depth')\n",
    "    plt.show()\n",
    "    return score_li\n",
    "\n",
    "def kneighbor_tune_k(arr_data,arr_label,param_range):\n",
    "    # tune hyperparameter k in the knearest neighbour algorithm\n",
    "    X_train, X_test, y_train, y_test = split_data(arr_data,arr_label)\n",
    "    score_li = []\n",
    "    for dep in param_range:\n",
    "        print(dep)\n",
    "        clf = KNeighborsClassifier(n_neighbors=dep)\n",
    "        clf.fit(X_train, y_train)\n",
    "        ran_score = clf.score(X_test, y_test)\n",
    "        score_li.append(ran_score)\n",
    "    print(score_li)\n",
    "    plt.plot(param_range, score_li)\n",
    "    plt.ylabel('accuracy')\n",
    "    plt.xlabel('K')\n",
    "    plt.show()\n",
    "    return score_li\n",
    "\n",
    "def load_model(filename,test_data,test_label):\n",
    "    # load model and make prediction\n",
    "    loaded_model = pickle.load(open(filename, 'rb'))\n",
    "    result = loaded_model.score(test_data,test_label)\n",
    "    print(\"Accuracy: \"+str(result))\n",
    "    return result"
   ]
  },
  {
   "cell_type": "markdown",
   "metadata": {},
   "source": [
    "### Read Data"
   ]
  },
  {
   "cell_type": "code",
   "execution_count": 7,
   "metadata": {
    "collapsed": false
   },
   "outputs": [],
   "source": [
    "# change path to your local path\n",
    "path = \"E:/Sydney Semester 2/Machine Learning/\"\n",
    "arr_data,arr_label,test_data,test_label  =read_data(path)"
   ]
  },
  {
   "cell_type": "markdown",
   "metadata": {},
   "source": [
    "### Random Forest Algorithm"
   ]
  },
  {
   "cell_type": "code",
   "execution_count": null,
   "metadata": {
    "collapsed": true
   },
   "outputs": [],
   "source": [
    "# tune hyperparameters in the random forest\n",
    "score_li =random_forest_tune_depth(arr_data,arr_label,range(5, 60, 5))\n",
    "score_li =random_forest_tune_estimators(arr_data,arr_label,range(10,100,10))"
   ]
  },
  {
   "cell_type": "code",
   "execution_count": null,
   "metadata": {
    "collapsed": true
   },
   "outputs": [],
   "source": [
    "randomforest = RandomForestClassifier(n_estimators=70, max_depth=30, random_state=0)\n",
    "ranmodel = model_test(arr_data, arr_label,test_data,test_label,randomforest,\"randomforestmodel.sav\")"
   ]
  },
  {
   "cell_type": "code",
   "execution_count": null,
   "metadata": {
    "collapsed": true
   },
   "outputs": [],
   "source": [
    "# complete cross validation on training set\n",
    "randomforest = RandomForestClassifier(n_estimators=70, max_depth=30, random_state=0)\n",
    "ranresult =model_cross_validation(arr_data, arr_label,randomforest)"
   ]
  },
  {
   "cell_type": "code",
   "execution_count": null,
   "metadata": {
    "collapsed": true
   },
   "outputs": [],
   "source": [
    "# add your local path to your filename\n",
    "filename = \"randomforestmodel.sav\"\n",
    "load_model(filename,test_data,test_label)"
   ]
  },
  {
   "cell_type": "markdown",
   "metadata": {},
   "source": [
    "### Decision Tree Algorithm"
   ]
  },
  {
   "cell_type": "code",
   "execution_count": null,
   "metadata": {
    "collapsed": true
   },
   "outputs": [],
   "source": [
    "# tune hyperparameters in the decision tree\n",
    "score_li =decision_tree_tune_depth(arr_data,arr_label,range(5,30,2))"
   ]
  },
  {
   "cell_type": "code",
   "execution_count": null,
   "metadata": {
    "collapsed": true
   },
   "outputs": [],
   "source": [
    "clf = DecisionTreeClassifier(max_depth=13, random_state=0)\n",
    "demodel = model_test(arr_data, arr_label,test_data,test_label,clf,\"decisiontreemodel.sav\")"
   ]
  },
  {
   "cell_type": "code",
   "execution_count": null,
   "metadata": {
    "collapsed": true
   },
   "outputs": [],
   "source": [
    "# complete cross validation on training set\n",
    "clf = DecisionTreeClassifier(max_depth=13, random_state=0)\n",
    "deresult =model_cross_validation(arr_data, arr_label,clf)"
   ]
  },
  {
   "cell_type": "code",
   "execution_count": 10,
   "metadata": {
    "collapsed": false
   },
   "outputs": [
    {
     "name": "stdout",
     "output_type": "stream",
     "text": [
      "Accuracy: 0.8111\n"
     ]
    },
    {
     "data": {
      "text/plain": [
       "0.8111"
      ]
     },
     "execution_count": 10,
     "metadata": {},
     "output_type": "execute_result"
    }
   ],
   "source": [
    "# add your local path to your filename\n",
    "filename = \"decisiontreemodel.sav\"\n",
    "load_model(filename,test_data,test_label)"
   ]
  },
  {
   "cell_type": "markdown",
   "metadata": {},
   "source": [
    "### Knearest Neighbour Algorithm"
   ]
  },
  {
   "cell_type": "code",
   "execution_count": null,
   "metadata": {
    "collapsed": true
   },
   "outputs": [],
   "source": [
    "# tune hyperparameters in the Knearest Neighbour\n",
    "score_li = kneighbor_tune_k(arr_data[:20000]/255,arr_label[:20000],range(2,11))"
   ]
  },
  {
   "cell_type": "code",
   "execution_count": null,
   "metadata": {
    "collapsed": true
   },
   "outputs": [],
   "source": [
    "neigh = KNeighborsClassifier(n_neighbors=4)\n",
    "kneimodel = model_test(arr_data[:20000], arr_label[:20000],test_data[:3000],test_label[:3000],neigh,\"knearestmodel.sav\")"
   ]
  },
  {
   "cell_type": "code",
   "execution_count": null,
   "metadata": {
    "collapsed": true
   },
   "outputs": [],
   "source": [
    "# complete cross validation on training set\n",
    "neigh = KNeighborsClassifier(n_neighbors=4)\n",
    "kneiresult =model_cross_validation(arr_data[:20000]/255,arr_label[:20000],neigh)"
   ]
  },
  {
   "cell_type": "code",
   "execution_count": 8,
   "metadata": {
    "collapsed": false
   },
   "outputs": [
    {
     "data": {
      "text/plain": [
       "0.8276666666666667"
      ]
     },
     "execution_count": 8,
     "metadata": {},
     "output_type": "execute_result"
    }
   ],
   "source": [
    "# add your local path to your filename\n",
    "filename = \"knearestmodel.sav\"\n",
    "load_model(filename,test_data[:3000],test_label[:3000])"
   ]
  },
  {
   "cell_type": "code",
   "execution_count": null,
   "metadata": {
    "collapsed": true
   },
   "outputs": [],
   "source": []
  }
 ],
 "metadata": {
  "kernelspec": {
   "display_name": "Python 3",
   "language": "python",
   "name": "python3"
  },
  "language_info": {
   "codemirror_mode": {
    "name": "ipython",
    "version": 3
   },
   "file_extension": ".py",
   "mimetype": "text/x-python",
   "name": "python",
   "nbconvert_exporter": "python",
   "pygments_lexer": "ipython3",
   "version": "3.5.2"
  }
 },
 "nbformat": 4,
 "nbformat_minor": 0
}
