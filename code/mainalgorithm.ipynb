{
 "cells": [
  {
   "cell_type": "code",
   "execution_count": null,
   "metadata": {
    "collapsed": true
   },
   "outputs": [],
   "source": [
    "import matplotlib.pyplot as plt\n",
    "import tensorflow as tf\n",
    "import keras\n",
    "from sklearn.metrics import classification_report\n",
    "import pandas as pd\n",
    "import idx2numpy\n",
    "from sklearn.metrics import confusion_matrix\n",
    "from keras.models import load_model\n",
    "from sklearn.metrics import accuracy_score\n",
    "import seaborn as sns\n",
    "sns.set_style(\"whitegrid\")"
   ]
  },
  {
   "cell_type": "code",
   "execution_count": null,
   "metadata": {
    "collapsed": true
   },
   "outputs": [],
   "source": [
    "def read_data(path):\n",
    "    file_data = path + 'input/train-images-idx3-ubyte'\n",
    "    arr_data = idx2numpy.convert_from_file(file_data)\n",
    "    arr_data = arr_data.reshape(60000, 28 * 28)\n",
    "    file_label = path + 'input/train-labels-idx1-ubyte'\n",
    "    arr_label = idx2numpy.convert_from_file(file_label)\n",
    "    file_test = path + 'input/t10k-images-idx3-ubyte'\n",
    "    test_data = idx2numpy.convert_from_file(file_test)\n",
    "    test_data = test_data.reshape(10000, 28 * 28)\n",
    "    test_lab = path + 'input/t10k-labels-idx1-ubyte'\n",
    "    test_label = idx2numpy.convert_from_file(test_lab)\n",
    "    return arr_data, arr_label, test_data, test_label\n",
    "\n",
    "\n",
    "def KerasCNN(path):\n",
    "    # Load the dataset files and pre-process data\n",
    "    train_x, train_y, test_x, test_y = read_data(path)\n",
    "    train_x = train_x.reshape([-1, 28, 28, 1]) / 255.0\n",
    "    train_X = train_x[:50000]\n",
    "    Valid_x = train_x[50000:]\n",
    "    train_Y = train_y[:50000]\n",
    "    Valid_y = train_y[50000:]\n",
    "\n",
    "    # Build CNN classifier based on Keras\n",
    "    model = keras.Sequential([\n",
    "        # (-1,28,28,1)->(-1,28,28,32)\n",
    "        keras.layers.Conv2D(input_shape=(28, 28, 1), filters=32, kernel_size=5, strides=1, padding='same'),\n",
    "        # Padding method),\n",
    "        # (-1,28,28,32)->(-1,14,14,32)\n",
    "        keras.layers.MaxPool2D(pool_size=2, strides=2, padding='same'),\n",
    "\n",
    "        keras.layers.Dropout(0.2),\n",
    "        # (-1,14,14,32)->(-1,14,14,64)\n",
    "        keras.layers.Conv2D(filters=64, kernel_size=3, strides=1, padding='same'),  # Padding method),\n",
    "        # (-1,14,14,64)->(-1,7,7,64)\n",
    "        keras.layers.MaxPool2D(pool_size=2, strides=2, padding='same'),\n",
    "\n",
    "        keras.layers.Dropout(0.2),\n",
    "        # (-1,7,7,64)->(-1,7*7*64)\n",
    "        keras.layers.Flatten(),\n",
    "        # (-1,7*7*64)->(-1,256)\n",
    "        keras.layers.Dense(256, activation=tf.nn.relu),\n",
    "        # (-1,256)->(-1,10)\n",
    "        keras.layers.Dense(10, activation=tf.nn.softmax)\n",
    "    ])\n",
    "\n",
    "    print(model.summary())\n",
    "\n",
    "    model.compile(optimizer='adam', loss='sparse_categorical_crossentropy', metrics=['accuracy'])\n",
    "    history = model.fit(train_X,\n",
    "                        train_Y,\n",
    "                        validation_data=(Valid_x, Valid_y),\n",
    "                        epochs=10,\n",
    "                        batch_size=64,\n",
    "                        verbose=1\n",
    "                        )\n",
    "    model.save(\"my_model.h5\")\n",
    "\n",
    "    # Print test accuracy and loss line chart\n",
    "    accuracy = history.history['acc']\n",
    "    val_accuracy = history.history['val_acc']\n",
    "    loss = history.history['loss']\n",
    "    val_loss = history.history['val_loss']\n",
    "    epochs = range(len(accuracy))\n",
    "\n",
    "    plt.plot(epochs, accuracy, 'bo', label='Training accuracy')\n",
    "    plt.plot(epochs, val_accuracy, 'b', label='Validation accuracy')\n",
    "    plt.title('Training and validation accuracy')\n",
    "    plt.legend()\n",
    "    plt.figure()\n",
    "\n",
    "    plt.plot(epochs, loss, 'bo', label='Training loss')\n",
    "    plt.plot(epochs, val_loss, 'b', label='Validation loss')\n",
    "    plt.title('Training and validation loss')\n",
    "    plt.legend()\n",
    "    plt.show()\n",
    "    return model\n",
    "\n",
    "\n",
    "def Loadmodel(filename):\n",
    "    model = load_model(filename)\n",
    "    return model\n",
    "\n",
    "def makeprediction(path,model):\n",
    "    train_x, train_y, test_x, test_y = read_data(path)\n",
    "    test_x = test_x.reshape([-1, 28, 28, 1]) / 255.0\n",
    "    classNames = ['T-shirt/top', 'Trouser', 'Pullover', 'Dress', 'Coat',\n",
    "                  'Sandal', 'Shirt', 'Sneaker', 'Bag', 'Ankle boot']\n",
    "\n",
    "    # Print precision, recall and f1-score\n",
    "    predicted_classes = model.predict_classes(test_x)\n",
    "    print(classification_report(test_y, predicted_classes, target_names=classNames))  # KNN分类\n",
    "    # Print confusion matrix\n",
    "    con_array = confusion_matrix(test_y, predicted_classes, labels=range(10))\n",
    "    con_array = con_array / con_array.sum(axis=1)\n",
    "    df_cm = pd.DataFrame(con_array, range(10), range(10))\n",
    "    sns.set(font_scale=0.8)\n",
    "    snsimage = sns.heatmap(df_cm, annot=True, annot_kws={\"size\": 8})\n",
    "    figure = snsimage.get_figure()\n",
    "    figure.savefig(\"output.png\", dpi=400)\n",
    "    accuracy = accuracy_score(test_y,predicted_classes)\n",
    "    return accuracy"
   ]
  },
  {
   "cell_type": "markdown",
   "metadata": {},
   "source": [
    "### Train model and make prediction"
   ]
  },
  {
   "cell_type": "code",
   "execution_count": null,
   "metadata": {
    "collapsed": true
   },
   "outputs": [],
   "source": [
    "# change path to your local path\n",
    "path = \"\"\n",
    "model = KerasCNN(path)\n",
    "makeprediction(path,model)"
   ]
  },
  {
   "cell_type": "markdown",
   "metadata": {},
   "source": [
    "### Load saved model and make prediction"
   ]
  },
  {
   "cell_type": "code",
   "execution_count": null,
   "metadata": {
    "collapsed": true
   },
   "outputs": [],
   "source": [
    "# add your local path to your filename\n",
    "filename = \"my_model.h5\"\n",
    "model =Loadmodel(filename)\n",
    "# change path to your local path\n",
    "path = \"\"\n",
    "makeprediction(path,model)"
   ]
  }
 ],
 "metadata": {
  "kernelspec": {
   "display_name": "Python 3",
   "language": "python",
   "name": "python3"
  },
  "language_info": {
   "codemirror_mode": {
    "name": "ipython",
    "version": 3
   },
   "file_extension": ".py",
   "mimetype": "text/x-python",
   "name": "python",
   "nbconvert_exporter": "python",
   "pygments_lexer": "ipython3",
   "version": "3.5.2"
  }
 },
 "nbformat": 4,
 "nbformat_minor": 0
}
